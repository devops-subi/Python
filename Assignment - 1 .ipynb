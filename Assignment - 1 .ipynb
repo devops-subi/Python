{
 "cells": [
  {
   "cell_type": "code",
   "execution_count": 33,
   "metadata": {},
   "outputs": [
    {
     "name": "stdout",
     "output_type": "stream",
     "text": [
      "Enter the Start Range: 2000\n",
      "Enter the End Range: 3200\n",
      "The numbers between the range 2000 and 3200 which are divisible by 7 but are not a multiple of 5 are as below:\n",
      "2002,2009,2016,2023,2037,2044,2051,2058,2072,2079,2086,2093,2107,2114,2121,2128,2142,2149,2156,2163,2177,2184,2191,2198,2212,2219,2226,2233,2247,2254,2261,2268,2282,2289,2296,2303,2317,2324,2331,2338,2352,2359,2366,2373,2387,2394,2401,2408,2422,2429,2436,2443,2457,2464,2471,2478,2492,2499,2506,2513,2527,2534,2541,2548,2562,2569,2576,2583,2597,2604,2611,2618,2632,2639,2646,2653,2667,2674,2681,2688,2702,2709,2716,2723,2737,2744,2751,2758,2772,2779,2786,2793,2807,2814,2821,2828,2842,2849,2856,2863,2877,2884,2891,2898,2912,2919,2926,2933,2947,2954,2961,2968,2982,2989,2996,3003,3017,3024,3031,3038,3052,3059,3066,3073,3087,3094,3101,3108,3122,3129,3136,3143,3157,3164,3171,3178,3192,3199"
     ]
    }
   ],
   "source": [
    "#1 Write a program which will find all such numbers which are divisible by 7 but are not a multiple of 5, \n",
    "#between 2000 and 3200 (both included).The numbers obtained should be printed in a comma-separated sequence on a single line.\n",
    "import sys\n",
    "x=raw_input(\"Enter the Start Range: \")\n",
    "y=raw_input(\"Enter the End Range: \")\n",
    "x=int(x)\n",
    "y=int(y)\n",
    "if x == y:\n",
    "    print \"Start range and end range can't be same\"\n",
    "elif (y - x) < 7:\n",
    "    print \"Range difference should be >= 7\"\n",
    "else:\n",
    "    print \"The numbers between the range %d and %d which are divisible by 7 but are not a multiple of 5 are as below:\" % (x,y)\n",
    "    for i in range(x,y):\n",
    "        if i%7 == 0 and i%5 != 0 and i < y-1:\n",
    "            sys.stdout.write (str(i) + \",\")\n",
    "        elif i == y-1:\n",
    "            sys.stdout.write (str(i))"
   ]
  },
  {
   "cell_type": "code",
   "execution_count": 2,
   "metadata": {},
   "outputs": [
    {
     "name": "stdout",
     "output_type": "stream",
     "text": [
      "Enter the number: 20\n",
      "The factorial of 20 is : 2,4,3,2,9,0,2,0,0,8,1,7,6,6,4,0,0,0,0"
     ]
    }
   ],
   "source": [
    "#2 Write a program which can compute the factorial of a given numbers. The results should\n",
    "#be printed in a comma-separated sequence on a single line.\n",
    "import sys\n",
    "x=raw_input(\"Enter the number: \")\n",
    "x=int(x)\n",
    "a=1\n",
    "if x == 0:\n",
    "    print \"Number can't be Zero\"\n",
    "else:\n",
    "    sys.stdout.write(\"The factorial of %d is : \" % x)\n",
    "    count=0\n",
    "    for i in range(1,x+1):\n",
    "        a=i*a\n",
    "    for i in str(a):\n",
    "        if count != (len(str(a))-1):\n",
    "            sys.stdout.write(str(i) + \",\")\n",
    "            count += 1\n",
    "        else:\n",
    "            sys.stdout.write(str(i))\n",
    "            break;"
   ]
  },
  {
   "cell_type": "code",
   "execution_count": 177,
   "metadata": {},
   "outputs": [
    {
     "name": "stdout",
     "output_type": "stream",
     "text": [
      "Enter the max key range : 8\n",
      "{1: 1, 2: 4, 3: 9, 4: 16, 5: 25, 6: 36, 7: 49, 8: 64}\n"
     ]
    }
   ],
   "source": [
    "#3. With a given integral number n, write a program to generate a dictionary that contains (i, i*i) \n",
    "#such that is an integral number between 1 and n (both included) and then the program should print the dictionary.\n",
    "import sys\n",
    "n=raw_input(\"Enter the max key range : \")\n",
    "n=int(n)\n",
    "t=range(1,n+1)\n",
    "d={}\n",
    "for i in t:\n",
    "    d[i]=i*i\n",
    "print d"
   ]
  },
  {
   "cell_type": "code",
   "execution_count": 90,
   "metadata": {
    "scrolled": true
   },
   "outputs": [
    {
     "name": "stdout",
     "output_type": "stream",
     "text": [
      "Enter the numbers : 2,32,3232,34,e\n",
      "The List format for 2,32,3232,34,e is > ['2', '32', '3232', '34', 'e']\n",
      "The tuple format for 2,32,3232,34,e is > ('2', '32', '3232', '34', 'e')\n"
     ]
    }
   ],
   "source": [
    "#4. Write a program which accepts a sequence of comma-separated numbers from console and generate a list \n",
    "#and a tuple which contains every number.\n",
    "\n",
    "x=raw_input(\"Enter the numbers : \")\n",
    "d=x.split(\",\")\n",
    "print \"The List format for %s is >\" % x,d\n",
    "print \"The tuple format for %s is >\" % x,tuple(d)"
   ]
  },
  {
   "cell_type": "code",
   "execution_count": 150,
   "metadata": {},
   "outputs": [
    {
     "name": "stdout",
     "output_type": "stream",
     "text": [
      "Enter the string to be printed in UPPER case : subin\n",
      "The UPPER case of subin is : SUBIN"
     ]
    }
   ],
   "source": [
    "#5. Define a class which has at least two methods: getString: to get a string from console input \n",
    "#printString: to print the string in upper case.\n",
    "import sys\n",
    "class class_Ucase():\n",
    "        def __init__(self):\n",
    "            self.lc=\"\"\n",
    "            self.uc=\"\"\n",
    "        \n",
    "        def getString(self):\n",
    "            self.lc=raw_input(\"Enter the string to be printed in UPPER case : \")\n",
    "        \n",
    "        def printString(self):\n",
    "            self.uc=self.lc.upper()\n",
    "            sys.stdout.write(\"The UPPER case of %s is : %s\" %(self.lc,self.uc))\n",
    "            \n",
    "demo=class_demo()\n",
    "demo.getString()\n",
    "demo.printString()"
   ]
  },
  {
   "cell_type": "code",
   "execution_count": 134,
   "metadata": {},
   "outputs": [
    {
     "name": "stdout",
     "output_type": "stream",
     "text": [
      "Enter the values for D against formula - sqrt ((2*c*d)/h) :100,150,180\n",
      "The value of Q when d=100 is : 18\n",
      "The value of Q when d=150 is : 22\n",
      "The value of Q when d=180 is : 24\n"
     ]
    }
   ],
   "source": [
    "#6. Write a program that calculates and prints the value according to the given formula: \n",
    "#Q = Square root of [(2 * C * D)/H] Following are the fixed values of C and H: C is 50. \n",
    "#H is 30.D is the variable whose values should be input to your program in a comma-separated sequence.\n",
    "\n",
    "import sys\n",
    "import math\n",
    "c=50\n",
    "h=30\n",
    "num=raw_input(\"Enter the values for D against formula - sqrt ((2*c*d)/h) :\")\n",
    "x=num.split(\",\")\n",
    "for d in x:\n",
    "    d=int(d)\n",
    "    Q=math.sqrt((2*c*d)/h)\n",
    "    sys.stdout.write(\"The value of Q when d=%d is : %d\\n\" %(d,int(Q)))"
   ]
  },
  {
   "cell_type": "code",
   "execution_count": 310,
   "metadata": {},
   "outputs": [
    {
     "name": "stdout",
     "output_type": "stream",
     "text": [
      "Enter the number x : 3\n",
      "Enter the number y : 5\n"
     ]
    },
    {
     "ename": "IndexError",
     "evalue": "list index out of range",
     "output_type": "error",
     "traceback": [
      "\u001b[0;31m---------------------------------------------------------------------------\u001b[0m",
      "\u001b[0;31mIndexError\u001b[0m                                Traceback (most recent call last)",
      "\u001b[0;32m<ipython-input-310-a7e59fc7da68>\u001b[0m in \u001b[0;36m<module>\u001b[0;34m()\u001b[0m\n\u001b[1;32m     13\u001b[0m \u001b[0;32mfor\u001b[0m \u001b[0mi\u001b[0m \u001b[0;32min\u001b[0m \u001b[0mri\u001b[0m\u001b[0;34m:\u001b[0m\u001b[0;34m\u001b[0m\u001b[0m\n\u001b[1;32m     14\u001b[0m     \u001b[0;32mfor\u001b[0m \u001b[0mj\u001b[0m \u001b[0;32min\u001b[0m \u001b[0mrj\u001b[0m\u001b[0;34m:\u001b[0m\u001b[0;34m\u001b[0m\u001b[0m\n\u001b[0;32m---> 15\u001b[0;31m         \u001b[0mmyList\u001b[0m\u001b[0;34m[\u001b[0m\u001b[0mx\u001b[0m\u001b[0;34m]\u001b[0m\u001b[0;34m[\u001b[0m\u001b[0my\u001b[0m\u001b[0;34m]\u001b[0m\u001b[0;34m=\u001b[0m\u001b[0mi\u001b[0m\u001b[0;34m*\u001b[0m\u001b[0mj\u001b[0m\u001b[0;34m\u001b[0m\u001b[0m\n\u001b[0m\u001b[1;32m     16\u001b[0m         \u001b[0;32mprint\u001b[0m \u001b[0mmyList\u001b[0m\u001b[0;34m\u001b[0m\u001b[0m\n",
      "\u001b[0;31mIndexError\u001b[0m: list index out of range"
     ]
    }
   ],
   "source": [
    "#7. Write a program which takes 2 digits, X,Y as input and generates a 2-dimensional array. \n",
    "#The element value in the i-th row and j-th column of the array should be i*j. \n",
    "import sys\n",
    "x=raw_input(\"Enter the number x : \")\n",
    "y=raw_input(\"Enter the number y : \")\n",
    "x=int(x)\n",
    "y=int(y)\n",
    "myList=[]\n",
    "l1=[]\n",
    "ri=range(0,x)\n",
    "rj=range(0,y)\n",
    "\n",
    "for i in ri:\n",
    "    for j in rj:\n",
    "        myList[x][y]=i*j\n",
    "        print myList"
   ]
  },
  {
   "cell_type": "code",
   "execution_count": null,
   "metadata": {
    "collapsed": true
   },
   "outputs": [],
   "source": []
  },
  {
   "cell_type": "markdown",
   "metadata": {},
   "source": [
    "# "
   ]
  }
 ],
 "metadata": {
  "kernelspec": {
   "display_name": "Python 2",
   "language": "python",
   "name": "python2"
  },
  "language_info": {
   "codemirror_mode": {
    "name": "ipython",
    "version": 2
   },
   "file_extension": ".py",
   "mimetype": "text/x-python",
   "name": "python",
   "nbconvert_exporter": "python",
   "pygments_lexer": "ipython2",
   "version": "2.7.14"
  }
 },
 "nbformat": 4,
 "nbformat_minor": 2
}
